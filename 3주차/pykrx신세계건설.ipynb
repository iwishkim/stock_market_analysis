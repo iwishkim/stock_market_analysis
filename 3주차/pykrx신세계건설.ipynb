{
  "nbformat": 4,
  "nbformat_minor": 0,
  "metadata": {
    "colab": {
      "private_outputs": true,
      "provenance": [],
      "include_colab_link": true
    },
    "kernelspec": {
      "name": "python3",
      "display_name": "Python 3"
    },
    "language_info": {
      "name": "python"
    }
  },
  "cells": [
    {
      "cell_type": "markdown",
      "metadata": {
        "id": "view-in-github",
        "colab_type": "text"
      },
      "source": [
        "<a href=\"https://colab.research.google.com/github/iwishkim/stock_market_analysis/blob/main/3%EC%A3%BC%EC%B0%A8/pykrx%EC%8B%A0%EC%84%B8%EA%B3%84%EA%B1%B4%EC%84%A4.ipynb\" target=\"_parent\"><img src=\"https://colab.research.google.com/assets/colab-badge.svg\" alt=\"Open In Colab\"/></a>"
      ]
    },
    {
      "cell_type": "markdown",
      "source": [
        "- [pykrx](https://github.com/sharebook-kr/pykrx)\n",
        "- [네이버증권](https://finance.naver.com/)"
      ],
      "metadata": {
        "id": "jbg2N3D8x273"
      }
    },
    {
      "cell_type": "markdown",
      "source": [
        "# 설치"
      ],
      "metadata": {
        "id": "lEzupsu9x8-N"
      }
    },
    {
      "cell_type": "code",
      "execution_count": null,
      "metadata": {
        "id": "3_xeFoXdx0mu"
      },
      "outputs": [],
      "source": [
        "!pip install pykrx"
      ]
    },
    {
      "cell_type": "markdown",
      "source": [
        "# 특정종목 주가 가져오기"
      ],
      "metadata": {
        "id": "d3giSVCgx_Wd"
      }
    },
    {
      "cell_type": "code",
      "source": [
        "start_date = \"20230401\"\n",
        "end_date = \"20230412\"\n",
        "today = \"20230412\"\n",
        "ticker = \"034300\" # 신세계건설"
      ],
      "metadata": {
        "id": "xTf4UndT0gVC"
      },
      "execution_count": null,
      "outputs": []
    },
    {
      "cell_type": "code",
      "source": [
        "from pykrx import stock\n",
        "\n",
        "df = stock.get_market_ohlcv(start_date, end_date, ticker)\n",
        "df.head(3)"
      ],
      "metadata": {
        "id": "A0bOUo7-yDzj"
      },
      "execution_count": null,
      "outputs": []
    },
    {
      "cell_type": "code",
      "source": [
        "df.tail()"
      ],
      "metadata": {
        "id": "0M6gnLwODPq-"
      },
      "execution_count": null,
      "outputs": []
    },
    {
      "cell_type": "code",
      "source": [
        "df.info()"
      ],
      "metadata": {
        "id": "CLgf6PcY_0XU"
      },
      "execution_count": null,
      "outputs": []
    },
    {
      "cell_type": "code",
      "source": [
        "df['종가'].plot()"
      ],
      "metadata": {
        "id": "wa2m6E968BWY"
      },
      "execution_count": null,
      "outputs": []
    },
    {
      "cell_type": "code",
      "source": [
        "df['거래대금'].plot()"
      ],
      "metadata": {
        "id": "KwKIwyI5Kj9N"
      },
      "execution_count": null,
      "outputs": []
    },
    {
      "cell_type": "code",
      "source": [],
      "metadata": {
        "id": "N-W8zRLPQKFT"
      },
      "execution_count": null,
      "outputs": []
    },
    {
      "cell_type": "code",
      "source": [],
      "metadata": {
        "id": "DbfBqHJfQJ0c"
      },
      "execution_count": null,
      "outputs": []
    },
    {
      "cell_type": "code",
      "source": [],
      "metadata": {
        "id": "jZWIbpp3Dk68"
      },
      "execution_count": null,
      "outputs": []
    },
    {
      "cell_type": "markdown",
      "source": [
        "# 펀더멘탈"
      ],
      "metadata": {
        "id": "cCJP1RwYy8hy"
      }
    },
    {
      "cell_type": "code",
      "source": [
        "df = stock.get_market_fundamental(start_date, end_date, ticker)\n",
        "df.head(3)"
      ],
      "metadata": {
        "id": "kuzU0Cn8zPyk"
      },
      "execution_count": null,
      "outputs": []
    },
    {
      "cell_type": "code",
      "source": [
        "df.tail()"
      ],
      "metadata": {
        "id": "zbmA70KTDw3F"
      },
      "execution_count": null,
      "outputs": []
    },
    {
      "cell_type": "markdown",
      "source": [
        "## 거래대금"
      ],
      "metadata": {
        "id": "ZuM1MiTfzapr"
      }
    },
    {
      "cell_type": "markdown",
      "source": [
        "## 일자별"
      ],
      "metadata": {
        "id": "dk2b52nXzwqP"
      }
    },
    {
      "cell_type": "code",
      "source": [
        "df = stock.get_market_trading_value_by_date(start_date, end_date, ticker)\n",
        "df.head()"
      ],
      "metadata": {
        "id": "WCEr74qpzb4f"
      },
      "execution_count": null,
      "outputs": []
    },
    {
      "cell_type": "code",
      "source": [
        "df.tail()"
      ],
      "metadata": {
        "id": "_QPLehoeRfYW"
      },
      "execution_count": null,
      "outputs": []
    },
    {
      "cell_type": "markdown",
      "source": [
        "## 투자자별"
      ],
      "metadata": {
        "id": "PkxZ2X93zvBf"
      }
    },
    {
      "cell_type": "code",
      "source": [
        "df = stock.get_market_trading_value_by_investor(start_date, end_date, ticker)\n",
        "df.tail()"
      ],
      "metadata": {
        "id": "jLq2n2tWzune"
      },
      "execution_count": null,
      "outputs": []
    },
    {
      "cell_type": "code",
      "source": [
        "# 공매도\n",
        "df = stock.get_shorting_status_by_date(\"20230101\", \"20230411\", \"034300\")\n",
        "df.tail()"
      ],
      "metadata": {
        "id": "zhRGTnz0VA5F"
      },
      "execution_count": null,
      "outputs": []
    }
  ]
}