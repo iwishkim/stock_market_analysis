{
  "nbformat": 4,
  "nbformat_minor": 0,
  "metadata": {
    "colab": {
      "private_outputs": true,
      "provenance": [],
      "include_colab_link": true
    },
    "kernelspec": {
      "name": "python3",
      "display_name": "Python 3"
    },
    "language_info": {
      "name": "python"
    }
  },
  "cells": [
    {
      "cell_type": "markdown",
      "metadata": {
        "id": "view-in-github",
        "colab_type": "text"
      },
      "source": [
        "<a href=\"https://colab.research.google.com/github/iwishkim/stock_market_analysis/blob/main/pykrx%EC%97%90%EC%BD%94%ED%94%84%EB%A1%9C.ipynb\" target=\"_parent\"><img src=\"https://colab.research.google.com/assets/colab-badge.svg\" alt=\"Open In Colab\"/></a>"
      ]
    },
    {
      "cell_type": "markdown",
      "source": [
        "- [pykrx](https://github.com/sharebook-kr/pykrx)\n",
        "- [네이버증권](https://finance.naver.com/)"
      ],
      "metadata": {
        "id": "jbg2N3D8x273"
      }
    },
    {
      "cell_type": "markdown",
      "source": [
        "# 설치"
      ],
      "metadata": {
        "id": "lEzupsu9x8-N"
      }
    },
    {
      "cell_type": "code",
      "execution_count": null,
      "metadata": {
        "id": "3_xeFoXdx0mu"
      },
      "outputs": [],
      "source": [
        "!pip install pykrx"
      ]
    },
    {
      "cell_type": "code",
      "source": [
        "# (라이브러리 설치 후 런타임 재시작 필요)\n",
        "!sudo apt-get install -y fonts-nanum\n",
        "!sudo fc-cache -fv\n",
        "!rm ~/.cache/matplotlib -rf"
      ],
      "metadata": {
        "id": "Cj9FDdNQGP7N"
      },
      "execution_count": null,
      "outputs": []
    },
    {
      "cell_type": "markdown",
      "source": [
        "# 특정종목 주가 가져오기"
      ],
      "metadata": {
        "id": "d3giSVCgx_Wd"
      }
    },
    {
      "cell_type": "code",
      "source": [
        "start_date = \"20230101\"\n",
        "end_date = \"20230422\"\n",
        "today = \"20230422\"\n",
        "ticker = \"086520\" # 에코프로"
      ],
      "metadata": {
        "id": "xTf4UndT0gVC"
      },
      "execution_count": null,
      "outputs": []
    },
    {
      "cell_type": "code",
      "source": [
        "from pykrx import stock\n",
        "\n",
        "df = stock.get_market_ohlcv(start_date, end_date, ticker)\n",
        "df.head(2)"
      ],
      "metadata": {
        "id": "A0bOUo7-yDzj"
      },
      "execution_count": null,
      "outputs": []
    },
    {
      "cell_type": "code",
      "source": [
        "df.tail(2)"
      ],
      "metadata": {
        "id": "0M6gnLwODPq-"
      },
      "execution_count": null,
      "outputs": []
    },
    {
      "cell_type": "code",
      "source": [
        "df.info()"
      ],
      "metadata": {
        "id": "CLgf6PcY_0XU"
      },
      "execution_count": null,
      "outputs": []
    },
    {
      "cell_type": "code",
      "source": [
        "df['종가'].plot(figsize = (18, 5), title = '에코프로 주가 변동내역2023년1월부터')"
      ],
      "metadata": {
        "id": "wa2m6E968BWY"
      },
      "execution_count": null,
      "outputs": []
    },
    {
      "cell_type": "code",
      "source": [
        "df['거래대금'].plot(figsize = (18, 5), title =('거래대금 변화'))"
      ],
      "metadata": {
        "id": "KwKIwyI5Kj9N"
      },
      "execution_count": null,
      "outputs": []
    },
    {
      "cell_type": "code",
      "source": [
        "df['거래량'].plot(figsize = (18, 5))"
      ],
      "metadata": {
        "id": "N-W8zRLPQKFT"
      },
      "execution_count": null,
      "outputs": []
    },
    {
      "cell_type": "code",
      "source": [
        "import plotly.express as px\n",
        "import plotly.graph_objs as go\n",
        "\n",
        "chart_add=[\n",
        "    go.Line(\n",
        "        x=df.index, y=df['종가']),\n",
        "    go.Bar(\n",
        "        x=df.index, y=df['거래량'])]\n",
        "layout = go.Layout(\n",
        "    barmode='stack',\n",
        "    title='에코프로 Stock Chart')\n",
        "fig = go.Figure(chart_add, layout=layout)\n",
        "fig.show()"
      ],
      "metadata": {
        "id": "C6LShcBRMrvw"
      },
      "execution_count": null,
      "outputs": []
    },
    {
      "cell_type": "code",
      "source": [
        "fig=px.scatter(df,x=df.index, y=\"종가\", size=\"종가\", hover_data=['종가']) #'],hover_data=df['Close'])\n",
        "fig.show(0)"
      ],
      "metadata": {
        "id": "w6ch_zl2MzhB"
      },
      "execution_count": null,
      "outputs": []
    },
    {
      "cell_type": "code",
      "source": [
        "fig = px.line(df, x=df.index, y=['종가','시가'])\n",
        "fig.show()"
      ],
      "metadata": {
        "id": "06eFN0pBNYxo"
      },
      "execution_count": null,
      "outputs": []
    },
    {
      "cell_type": "code",
      "source": [
        "fig=px.bar(df, x=df.index, y=['종가','거래량'], title='에코프로 Stock Graph')\n",
        "fig.show()"
      ],
      "metadata": {
        "id": "m825sdHKMzXw"
      },
      "execution_count": null,
      "outputs": []
    },
    {
      "cell_type": "code",
      "source": [
        "fig = px.line(df, y='종가', title='Time Series with Rangeslider')\n",
        "\n",
        "fig.update_xaxes(rangeslider_visible = True)\n",
        "fig.show()"
      ],
      "metadata": {
        "id": "hZvhtCY_Vrgr"
      },
      "execution_count": null,
      "outputs": []
    },
    {
      "cell_type": "code",
      "source": [
        "fig = px.line(df, y='종가', title='Time Series with Rangeslider')\n",
        "\n",
        "fig.update_xaxes(\n",
        "    rangeslider_visible=True,\n",
        "    rangeselector = dict(\n",
        "        buttons = list([\n",
        "            dict(count=1, label=\"1m\", step=\"month\", stepmode=\"backward\"),\n",
        "            dict(count=6, label=\"6m\", step=\"month\", stepmode=\"backward\"),\n",
        "            dict(count=1, label=\"YTD\", step=\"year\", stepmode=\"todate\"),\n",
        "            dict(count=1, label=\"1y\", step=\"year\", stepmode=\"backward\"),\n",
        "            dict(step=\"all\")\n",
        "        ])\n",
        "    )\n",
        ")\n",
        "fig.show()"
      ],
      "metadata": {
        "id": "qJc0j712VrVi"
      },
      "execution_count": null,
      "outputs": []
    },
    {
      "cell_type": "code",
      "source": [],
      "metadata": {
        "id": "ljYMFGgsVrCM"
      },
      "execution_count": null,
      "outputs": []
    },
    {
      "cell_type": "markdown",
      "source": [
        "# 상관관계"
      ],
      "metadata": {
        "id": "iAK0d7P6HI7-"
      }
    },
    {
      "cell_type": "code",
      "source": [
        "import numpy as np\n",
        "import pandas as pd\n",
        "import matplotlib.pyplot as plt\n",
        "import seaborn as sns\n",
        "import plotly.express as px\n",
        "\n",
        "# Matplotlib 한글 폰트 설정\n",
        "plt.rc('font', family='NanumBarunGothic')  "
      ],
      "metadata": {
        "id": "DbfBqHJfQJ0c"
      },
      "execution_count": null,
      "outputs": []
    },
    {
      "cell_type": "code",
      "source": [
        "df_corr = df.corr(method='pearson')\n",
        "df_corr"
      ],
      "metadata": {
        "id": "jZWIbpp3Dk68"
      },
      "execution_count": null,
      "outputs": []
    },
    {
      "cell_type": "code",
      "source": [
        "df['거래량'].corr(df['종가'])"
      ],
      "metadata": {
        "id": "cweUbZvDa4Ab"
      },
      "execution_count": null,
      "outputs": []
    },
    {
      "cell_type": "code",
      "source": [
        "sns.pairplot(df_corr)\n",
        "plt.show()"
      ],
      "metadata": {
        "id": "X0Z_hf7gbFak"
      },
      "execution_count": null,
      "outputs": []
    },
    {
      "cell_type": "code",
      "source": [
        "sns.catplot(x='거래량', y='종가', hue='등락률', data=df_corr, kind='point')\n",
        "plt.show()"
      ],
      "metadata": {
        "id": "KvV1fhMLXfy7"
      },
      "execution_count": null,
      "outputs": []
    },
    {
      "cell_type": "code",
      "source": [
        "sns.heatmap(df_corr,\n",
        "           annot=True,\n",
        "           cmap='YlGn') # cmap color 참조\n",
        "plt.show()"
      ],
      "metadata": {
        "id": "rhitmhwxbFWR"
      },
      "execution_count": null,
      "outputs": []
    },
    {
      "cell_type": "code",
      "source": [],
      "metadata": {
        "id": "9vfyTqgxbFSR"
      },
      "execution_count": null,
      "outputs": []
    },
    {
      "cell_type": "code",
      "source": [],
      "metadata": {
        "id": "zq-DGsh_bFOJ"
      },
      "execution_count": null,
      "outputs": []
    },
    {
      "cell_type": "code",
      "source": [],
      "metadata": {
        "id": "DKoOo0XgbFGh"
      },
      "execution_count": null,
      "outputs": []
    },
    {
      "cell_type": "code",
      "source": [],
      "metadata": {
        "id": "xJjGN0S_bE3o"
      },
      "execution_count": null,
      "outputs": []
    },
    {
      "cell_type": "markdown",
      "source": [
        "# 펀더멘탈"
      ],
      "metadata": {
        "id": "cCJP1RwYy8hy"
      }
    },
    {
      "cell_type": "code",
      "source": [
        "df_fm = stock.get_market_fundamental(start_date, end_date, ticker)\n",
        "df_fm.head(3)"
      ],
      "metadata": {
        "id": "kuzU0Cn8zPyk"
      },
      "execution_count": null,
      "outputs": []
    },
    {
      "cell_type": "code",
      "source": [
        "df_fm.tail()"
      ],
      "metadata": {
        "id": "zbmA70KTDw3F"
      },
      "execution_count": null,
      "outputs": []
    },
    {
      "cell_type": "code",
      "source": [
        "df_fm.info()"
      ],
      "metadata": {
        "id": "rB3U8ZNoVVTo"
      },
      "execution_count": null,
      "outputs": []
    },
    {
      "cell_type": "code",
      "source": [],
      "metadata": {
        "id": "JTKkAVWOSubC"
      },
      "execution_count": null,
      "outputs": []
    },
    {
      "cell_type": "code",
      "source": [],
      "metadata": {
        "id": "SZiOfVnMSt5p"
      },
      "execution_count": null,
      "outputs": []
    },
    {
      "cell_type": "code",
      "source": [],
      "metadata": {
        "id": "qAYeXHQ5Stnp"
      },
      "execution_count": null,
      "outputs": []
    },
    {
      "cell_type": "markdown",
      "source": [
        "## 거래대금"
      ],
      "metadata": {
        "id": "ZuM1MiTfzapr"
      }
    },
    {
      "cell_type": "markdown",
      "source": [
        "## 일자별"
      ],
      "metadata": {
        "id": "dk2b52nXzwqP"
      }
    },
    {
      "cell_type": "code",
      "source": [
        "df_tvdate = stock.get_market_trading_value_by_date(start_date, end_date, ticker)\n",
        "df_tvdate.head()"
      ],
      "metadata": {
        "id": "WCEr74qpzb4f"
      },
      "execution_count": null,
      "outputs": []
    },
    {
      "cell_type": "code",
      "source": [
        "df_tvdate.tail()"
      ],
      "metadata": {
        "id": "_QPLehoeRfYW"
      },
      "execution_count": null,
      "outputs": []
    },
    {
      "cell_type": "code",
      "source": [
        "df_tvdate_corr = df_tvdate.corr(method='pearson')\n",
        "df_tvdate_corr"
      ],
      "metadata": {
        "id": "Qtq-1ExfJJh_"
      },
      "execution_count": null,
      "outputs": []
    },
    {
      "cell_type": "code",
      "source": [
        "sns.heatmap(df_tvdate_corr,\n",
        "           annot=True,\n",
        "           cmap='YlGn') # cmap color 참조\n",
        "plt.show()"
      ],
      "metadata": {
        "id": "WLijvcXIJtc3"
      },
      "execution_count": null,
      "outputs": []
    },
    {
      "cell_type": "markdown",
      "source": [
        "## 투자자별"
      ],
      "metadata": {
        "id": "PkxZ2X93zvBf"
      }
    },
    {
      "cell_type": "code",
      "source": [
        "df_tviv = stock.get_market_trading_value_by_investor(start_date, end_date, ticker)\n",
        "df_tviv.tail()"
      ],
      "metadata": {
        "id": "jLq2n2tWzune"
      },
      "execution_count": null,
      "outputs": []
    },
    {
      "cell_type": "code",
      "source": [
        "# 공매도\n",
        "df = stock.get_shorting_status_by_date(\"20230101\", \"202304122\", \"086520\")\n",
        "df.tail()"
      ],
      "metadata": {
        "id": "zhRGTnz0VA5F"
      },
      "execution_count": null,
      "outputs": []
    },
    {
      "cell_type": "markdown",
      "source": [
        "#이동평균 구하기"
      ],
      "metadata": {
        "id": "rN5AdT64C3ub"
      }
    },
    {
      "cell_type": "code",
      "source": [
        "from pykrx import stock\n",
        "\n",
        "start_date = \"20220101\"\n",
        "end_date = \"20230422\"\n",
        "today = \"20230422\"\n",
        "ticker = \"086520\" # 에코프로\n",
        "\n",
        "df = stock.get_market_ohlcv(start_date, end_date, ticker)\n",
        "df.head(3)"
      ],
      "metadata": {
        "id": "H1pfahAQCwCk"
      },
      "execution_count": null,
      "outputs": []
    },
    {
      "cell_type": "code",
      "source": [
        "df['ma5'] = df['종가'].rolling(5).mean()\n",
        "df['ma20'] = df['종가'].rolling(20).mean()\n",
        "df['ma100'] = df['종가'].rolling(100).mean()\n",
        "df['ma200'] = df['종가'].rolling(200).mean()"
      ],
      "metadata": {
        "id": "v7q8D0HkC2FL"
      },
      "execution_count": null,
      "outputs": []
    },
    {
      "cell_type": "code",
      "source": [
        "df.head()"
      ],
      "metadata": {
        "id": "CSEebq6GDNSp"
      },
      "execution_count": null,
      "outputs": []
    },
    {
      "cell_type": "code",
      "source": [
        "import plotly.express as px\n",
        "\n",
        "df1 = df[['종가', 'ma5', 'ma20', 'ma100', 'ma200']]\n",
        "fig = px.line(df1,  y=df1.columns,\n",
        "              title='이동평균선')\n",
        "fig.update_xaxes(\n",
        "    dtick=\"M1\",\n",
        "    tickformat=\"%b\\n%Y\",\n",
        "    ticklabelmode=\"period\")\n",
        "fig.show()"
      ],
      "metadata": {
        "id": "8ZvryrcDDRy4"
      },
      "execution_count": null,
      "outputs": []
    },
    {
      "cell_type": "markdown",
      "source": [
        "#스토캐스틱"
      ],
      "metadata": {
        "id": "h-JPMuMxE4KS"
      }
    },
    {
      "cell_type": "code",
      "source": [
        "# Fast %K = ((현재가 - n기간 중 최저가) / (n기간 중 최고가 - n기간 중 최저가)) * 100\n",
        "def get_stochastic_fast_k(close_price, low, high, n=5):\n",
        "  fast_k = ((close_price - low.rolling(n).min()) / (high.rolling(n).max() - low.rolling(n).min())) * 100\n",
        "  return fast_k\n",
        " \n",
        "# Slow %K = Fast %K의 m기간 이동평균\n",
        "def get_stochastic_slow_k(fast_k, n=3):\n",
        "  slow_k = fast_k.rolling(n).mean()\n",
        "  return slow_k\n",
        " \n",
        "# Slow %D = Slow %K의 t기간 이동평균\n",
        "def get_stochastic_slow_d(slow_k, n=3):\n",
        "  slow_d = slow_k.rolling(n).mean()\n",
        "  return slow_d "
      ],
      "metadata": {
        "id": "wPZR55DrEdXn"
      },
      "execution_count": null,
      "outputs": []
    },
    {
      "cell_type": "code",
      "source": [
        "# fast_k, slow_k, slow_d를 획득\n",
        "df['fast_k'] = get_stochastic_fast_k(df['종가'], df['저가'], df['고가'], 5)\n",
        "df['slow_k'] = get_stochastic_slow_k(df['fast_k'], 3)\n",
        "df['slow_d'] = get_stochastic_slow_d(df['slow_k'], 3)"
      ],
      "metadata": {
        "id": "i5EJFiLhEj-9"
      },
      "execution_count": null,
      "outputs": []
    },
    {
      "cell_type": "code",
      "source": [
        "from plotly.subplots import make_subplots\n",
        "import plotly.graph_objects as go\n",
        "\n",
        "# Create figure with secondary y-axis\n",
        "fig = make_subplots(specs=[[{\"secondary_y\": True}]])\n",
        "\n",
        "fig.add_trace(\n",
        "    go.Line(x = df.index, y = df['종가'], name='종가'),\n",
        "    secondary_y= True\n",
        ")\n",
        "\n",
        "# Add traces\n",
        "fig.add_trace(\n",
        "    go.Line(x = df.index, y = df['slow_k'], name='slow_k'),\n",
        "    secondary_y= False\n",
        ")\n",
        "\n",
        "# Add traces\n",
        "fig.add_trace(\n",
        "    go.Line(x = df.index, y = df['slow_d'], name='slow_d'),\n",
        "    secondary_y= False\n",
        ")\n",
        "\n",
        "# Add traces\n",
        "fig.add_trace(\n",
        "    go.Line(x = df.index, y=[80] * len(df.index), name='80선'),\n",
        "    secondary_y= False\n",
        ")\n",
        "\n",
        "# Add traces\n",
        "fig.add_trace(\n",
        "    go.Line(x = df.index, y=[20] * len(df.index), name='20선'),\n",
        "    secondary_y= False\n",
        ")\n",
        "\n",
        "fig.update_xaxes(\n",
        "    rangeslider_visible=True,\n",
        "    rangeselector=dict(\n",
        "        buttons=list([\n",
        "            dict(count=1, label=\"1m\", step=\"month\", stepmode=\"backward\"),\n",
        "            dict(count=6, label=\"6m\", step=\"month\", stepmode=\"backward\"),\n",
        "            dict(count=1, label=\"YTD\", step=\"year\", stepmode=\"todate\"),\n",
        "            dict(count=1, label=\"1y\", step=\"year\", stepmode=\"backward\"),\n",
        "            dict(step=\"all\")\n",
        "        ])\n",
        "    )\n",
        ")\n",
        "\n",
        "# Set y-axes titles\n",
        "fig.update_yaxes(title_text=\"<b>stocastic</b> axis\", secondary_y=False)\n",
        "fig.update_yaxes(title_text=\"<b>종가</b> axis\", secondary_y=True)\n",
        "\n",
        "fig.show()"
      ],
      "metadata": {
        "id": "nU5QUxmCEj2l"
      },
      "execution_count": null,
      "outputs": []
    },
    {
      "cell_type": "code",
      "source": [
        "# 골든크로스\n",
        "\n",
        "df.query('(slow_k >= slow_d) and (slow_k <= 20)')"
      ],
      "metadata": {
        "id": "bXDkJCJIEjtm"
      },
      "execution_count": null,
      "outputs": []
    },
    {
      "cell_type": "code",
      "source": [
        "# 데드클로스\n",
        "\n",
        "df.query('(slow_k <= slow_d) and (slow_k >= 80)')"
      ],
      "metadata": {
        "id": "QAqMfRvTEjjM"
      },
      "execution_count": null,
      "outputs": []
    },
    {
      "cell_type": "code",
      "source": [],
      "metadata": {
        "id": "z4x-U4gBEjUW"
      },
      "execution_count": null,
      "outputs": []
    }
  ]
}